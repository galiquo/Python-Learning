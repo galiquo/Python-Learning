{
 "metadata": {
  "name": "",
  "signature": "sha256:9a5b6217be145f66d67dbcfffe61af619ee79b8b4129ad7d657a98ba99d91907"
 },
 "nbformat": 3,
 "nbformat_minor": 0,
 "worksheets": [
  {
   "cells": [
    {
     "cell_type": "code",
     "collapsed": false,
     "input": [
      "i = 0\n",
      "numbers = []\n",
      "\n",
      "while i < 6:\n",
      "    print \"At the top i is %d\" % i\n",
      "    numbers.append(i)\n",
      "    \n",
      "    i = i + 1\n",
      "    \n",
      "    print \"Numbers now: \", numbers\n",
      "    print \"At the bottom i is %d\" % i\n",
      "    \n",
      "    \n",
      "print \"Then numbers: \"\n",
      "for num in numbers:\n",
      "        print num"
     ],
     "language": "python",
     "metadata": {},
     "outputs": []
    },
    {
     "cell_type": "code",
     "collapsed": false,
     "input": [],
     "language": "python",
     "metadata": {},
     "outputs": []
    }
   ],
   "metadata": {}
  }
 ]
}